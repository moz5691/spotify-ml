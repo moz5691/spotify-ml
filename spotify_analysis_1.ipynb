{
 "metadata": {
  "language_info": {
   "codemirror_mode": {
    "name": "ipython",
    "version": 3
   },
   "file_extension": ".py",
   "mimetype": "text/x-python",
   "name": "python",
   "nbconvert_exporter": "python",
   "pygments_lexer": "ipython3",
   "version": "3.8.3-final"
  },
  "orig_nbformat": 2,
  "kernelspec": {
   "name": "python_defaultSpec_1596246587397",
   "display_name": "Python 3.8.3 64-bit ('tf20': venv)"
  }
 },
 "nbformat": 4,
 "nbformat_minor": 2,
 "cells": [
  {
   "cell_type": "markdown",
   "metadata": {},
   "source": [
    "## Spotify Analysis - Danceability"
   ]
  },
  {
   "cell_type": "code",
   "execution_count": 2,
   "metadata": {},
   "outputs": [],
   "source": [
    "with open('./share/common.py') as fin:\n",
    "   exec(fin.read())\n",
    "\n",
    "with open('./share/matplotlibconf.py') as fin:\n",
    "    exec(fin.read())\n"
   ]
  },
  {
   "cell_type": "code",
   "execution_count": 67,
   "metadata": {},
   "outputs": [],
   "source": [
    "df = pd.read_csv('./data/SpotifyFeatures.csv')"
   ]
  },
  {
   "cell_type": "code",
   "execution_count": 68,
   "metadata": {},
   "outputs": [],
   "source": [
    "df.loc[df['genre'] == \"Children’s Music\", 'genre'] = \"Children's Music\""
   ]
  },
  {
   "cell_type": "code",
   "execution_count": 69,
   "metadata": {},
   "outputs": [
    {
     "output_type": "execute_result",
     "data": {
      "text/plain": "array(['Movie', 'R&B', 'A Capella', 'Alternative', 'Country', 'Dance',\n       'Electronic', 'Anime', 'Folk', 'Blues', 'Opera', 'Hip-Hop',\n       \"Children's Music\", 'Rap', 'Indie', 'Classical', 'Pop', 'Reggae',\n       'Reggaeton', 'Jazz', 'Rock', 'Ska', 'Comedy', 'Soul', 'Soundtrack',\n       'World'], dtype=object)"
     },
     "metadata": {},
     "execution_count": 69
    }
   ],
   "source": [
    "df['genre'].unique()"
   ]
  },
  {
   "cell_type": "code",
   "execution_count": 70,
   "metadata": {},
   "outputs": [],
   "source": [
    "df =pd.get_dummies(df, columns=['genre'], prefix=['genre'])"
   ]
  },
  {
   "cell_type": "code",
   "execution_count": 71,
   "metadata": {},
   "outputs": [
    {
     "output_type": "execute_result",
     "data": {
      "text/plain": "Index(['artist_name', 'track_name', 'track_id', 'popularity', 'acousticness',\n       'danceability', 'duration_ms', 'energy', 'instrumentalness', 'key',\n       'liveness', 'loudness', 'mode', 'speechiness', 'tempo',\n       'time_signature', 'valence', 'genre_A Capella', 'genre_Alternative',\n       'genre_Anime', 'genre_Blues', 'genre_Children's Music',\n       'genre_Classical', 'genre_Comedy', 'genre_Country', 'genre_Dance',\n       'genre_Electronic', 'genre_Folk', 'genre_Hip-Hop', 'genre_Indie',\n       'genre_Jazz', 'genre_Movie', 'genre_Opera', 'genre_Pop', 'genre_R&B',\n       'genre_Rap', 'genre_Reggae', 'genre_Reggaeton', 'genre_Rock',\n       'genre_Ska', 'genre_Soul', 'genre_Soundtrack', 'genre_World'],\n      dtype='object')"
     },
     "metadata": {},
     "execution_count": 71
    }
   ],
   "source": [
    "df.columns"
   ]
  },
  {
   "cell_type": "code",
   "execution_count": 72,
   "metadata": {},
   "outputs": [],
   "source": [
    "df.loc[(df['popularity'] < 34), 'popularity' ] = 0\n",
    "df.loc[(df['popularity'] >= 34) & (df['popularity'] < 52 ), 'popularity' ] = 1\n",
    "df.loc[(df['popularity'] >= 52) , 'popularity' ] = 2"
   ]
  },
  {
   "cell_type": "code",
   "execution_count": 73,
   "metadata": {},
   "outputs": [],
   "source": [
    "features = ['popularity',\n",
    "       'acousticness', 'danceability', 'energy',\n",
    "       'instrumentalness', 'liveness', 'loudness', 'speechiness', 'genre_A Capella', 'genre_Alternative',\n",
    "       'genre_Anime', 'genre_Blues', \"genre_Children's Music\",\n",
    "       'genre_Classical', 'genre_Comedy', 'genre_Country', 'genre_Dance',\n",
    "       'genre_Electronic', 'genre_Folk', 'genre_Hip-Hop', 'genre_Indie',\n",
    "       'genre_Jazz', 'genre_Movie', 'genre_Opera', 'genre_Pop', 'genre_R&B',\n",
    "       'genre_Rap', 'genre_Reggae', 'genre_Reggaeton', 'genre_Rock',\n",
    "       'genre_Ska', 'genre_Soul', 'genre_Soundtrack', 'genre_World']"
   ]
  },
  {
   "cell_type": "code",
   "execution_count": 74,
   "metadata": {},
   "outputs": [
    {
     "output_type": "execute_result",
     "data": {
      "text/plain": "   popularity  acousticness  danceability  energy  instrumentalness  liveness  \\\n0           0         0.611         0.389   0.910             0.000    0.3460   \n1           0         0.246         0.590   0.737             0.000    0.1510   \n2           0         0.952         0.663   0.131             0.000    0.1030   \n3           0         0.703         0.240   0.326             0.000    0.0985   \n4           0         0.950         0.331   0.225             0.123    0.2020   \n\n   ...  genre_Reggaeton  genre_Rock  genre_Ska  genre_Soul  genre_Soundtrack  \\\n0  ...                0           0          0           0                 0   \n1  ...                0           0          0           0                 0   \n2  ...                0           0          0           0                 0   \n3  ...                0           0          0           0                 0   \n4  ...                0           0          0           0                 0   \n\n   genre_World  \n0            0  \n1            0  \n2            0  \n3            0  \n4            0  \n\n[5 rows x 34 columns]",
      "text/html": "<div>\n<style scoped>\n    .dataframe tbody tr th:only-of-type {\n        vertical-align: middle;\n    }\n\n    .dataframe tbody tr th {\n        vertical-align: top;\n    }\n\n    .dataframe thead th {\n        text-align: right;\n    }\n</style>\n<table border=\"1\" class=\"dataframe\">\n  <thead>\n    <tr style=\"text-align: right;\">\n      <th></th>\n      <th>popularity</th>\n      <th>acousticness</th>\n      <th>danceability</th>\n      <th>energy</th>\n      <th>instrumentalness</th>\n      <th>liveness</th>\n      <th>...</th>\n      <th>genre_Reggaeton</th>\n      <th>genre_Rock</th>\n      <th>genre_Ska</th>\n      <th>genre_Soul</th>\n      <th>genre_Soundtrack</th>\n      <th>genre_World</th>\n    </tr>\n  </thead>\n  <tbody>\n    <tr>\n      <th>0</th>\n      <td>0</td>\n      <td>0.611</td>\n      <td>0.389</td>\n      <td>0.910</td>\n      <td>0.000</td>\n      <td>0.3460</td>\n      <td>...</td>\n      <td>0</td>\n      <td>0</td>\n      <td>0</td>\n      <td>0</td>\n      <td>0</td>\n      <td>0</td>\n    </tr>\n    <tr>\n      <th>1</th>\n      <td>0</td>\n      <td>0.246</td>\n      <td>0.590</td>\n      <td>0.737</td>\n      <td>0.000</td>\n      <td>0.1510</td>\n      <td>...</td>\n      <td>0</td>\n      <td>0</td>\n      <td>0</td>\n      <td>0</td>\n      <td>0</td>\n      <td>0</td>\n    </tr>\n    <tr>\n      <th>2</th>\n      <td>0</td>\n      <td>0.952</td>\n      <td>0.663</td>\n      <td>0.131</td>\n      <td>0.000</td>\n      <td>0.1030</td>\n      <td>...</td>\n      <td>0</td>\n      <td>0</td>\n      <td>0</td>\n      <td>0</td>\n      <td>0</td>\n      <td>0</td>\n    </tr>\n    <tr>\n      <th>3</th>\n      <td>0</td>\n      <td>0.703</td>\n      <td>0.240</td>\n      <td>0.326</td>\n      <td>0.000</td>\n      <td>0.0985</td>\n      <td>...</td>\n      <td>0</td>\n      <td>0</td>\n      <td>0</td>\n      <td>0</td>\n      <td>0</td>\n      <td>0</td>\n    </tr>\n    <tr>\n      <th>4</th>\n      <td>0</td>\n      <td>0.950</td>\n      <td>0.331</td>\n      <td>0.225</td>\n      <td>0.123</td>\n      <td>0.2020</td>\n      <td>...</td>\n      <td>0</td>\n      <td>0</td>\n      <td>0</td>\n      <td>0</td>\n      <td>0</td>\n      <td>0</td>\n    </tr>\n  </tbody>\n</table>\n<p>5 rows × 34 columns</p>\n</div>"
     },
     "metadata": {},
     "execution_count": 74
    }
   ],
   "source": [
    "df = df[features]\n",
    "df.head()"
   ]
  },
  {
   "cell_type": "code",
   "execution_count": 75,
   "metadata": {},
   "outputs": [],
   "source": [
    "import joblib\n",
    "from sklearn.metrics import classification_report, confusion_matrix\n",
    "from sklearn.model_selection import train_test_split\n",
    "from sklearn.preprocessing import MinMaxScaler, StandardScaler\n",
    "from sklearn.ensemble import RandomForestClassifier\n",
    "from sklearn.model_selection import GridSearchCV\n",
    "from sklearn.svm import SVC\n",
    "import scikitplot as skplt"
   ]
  },
  {
   "cell_type": "code",
   "execution_count": 76,
   "metadata": {},
   "outputs": [],
   "source": [
    "X = df.drop('popularity', axis=1)\n",
    "y = df['popularity']\n",
    "feature_names = X.columns"
   ]
  },
  {
   "cell_type": "code",
   "execution_count": 77,
   "metadata": {},
   "outputs": [],
   "source": [
    "X_train, X_test, y_train, y_test = train_test_split(X, y, test_size=0.1, random_state=101)"
   ]
  },
  {
   "cell_type": "code",
   "execution_count": 78,
   "metadata": {},
   "outputs": [
    {
     "output_type": "execute_result",
     "data": {
      "text/plain": "        acousticness  danceability  energy  instrumentalness  liveness  \\\n194757        0.5590         0.288   0.516           0.00000    0.1790   \n207397        0.7480         0.387   0.379           0.00258    0.0898   \n30452         0.9250         0.370   0.137           0.98700    0.1170   \n136375        0.1870         0.616   0.582           0.20000    0.0995   \n19545         0.0234         0.778   0.957           0.00000    0.7150   \n\n        loudness  ...  genre_Reggaeton  genre_Rock  genre_Ska  genre_Soul  \\\n194757    -5.976  ...                0           0          0           0   \n207397   -12.589  ...                0           0          0           0   \n30452    -14.587  ...                0           0          0           0   \n136375    -9.676  ...                0           0          0           0   \n19545     -2.570  ...                0           0          0           0   \n\n        genre_Soundtrack  genre_World  \n194757                 0            0  \n207397                 0            1  \n30452                  0            0  \n136375                 0            0  \n19545                  0            0  \n\n[5 rows x 33 columns]",
      "text/html": "<div>\n<style scoped>\n    .dataframe tbody tr th:only-of-type {\n        vertical-align: middle;\n    }\n\n    .dataframe tbody tr th {\n        vertical-align: top;\n    }\n\n    .dataframe thead th {\n        text-align: right;\n    }\n</style>\n<table border=\"1\" class=\"dataframe\">\n  <thead>\n    <tr style=\"text-align: right;\">\n      <th></th>\n      <th>acousticness</th>\n      <th>danceability</th>\n      <th>energy</th>\n      <th>instrumentalness</th>\n      <th>liveness</th>\n      <th>loudness</th>\n      <th>...</th>\n      <th>genre_Reggaeton</th>\n      <th>genre_Rock</th>\n      <th>genre_Ska</th>\n      <th>genre_Soul</th>\n      <th>genre_Soundtrack</th>\n      <th>genre_World</th>\n    </tr>\n  </thead>\n  <tbody>\n    <tr>\n      <th>194757</th>\n      <td>0.5590</td>\n      <td>0.288</td>\n      <td>0.516</td>\n      <td>0.00000</td>\n      <td>0.1790</td>\n      <td>-5.976</td>\n      <td>...</td>\n      <td>0</td>\n      <td>0</td>\n      <td>0</td>\n      <td>0</td>\n      <td>0</td>\n      <td>0</td>\n    </tr>\n    <tr>\n      <th>207397</th>\n      <td>0.7480</td>\n      <td>0.387</td>\n      <td>0.379</td>\n      <td>0.00258</td>\n      <td>0.0898</td>\n      <td>-12.589</td>\n      <td>...</td>\n      <td>0</td>\n      <td>0</td>\n      <td>0</td>\n      <td>0</td>\n      <td>0</td>\n      <td>1</td>\n    </tr>\n    <tr>\n      <th>30452</th>\n      <td>0.9250</td>\n      <td>0.370</td>\n      <td>0.137</td>\n      <td>0.98700</td>\n      <td>0.1170</td>\n      <td>-14.587</td>\n      <td>...</td>\n      <td>0</td>\n      <td>0</td>\n      <td>0</td>\n      <td>0</td>\n      <td>0</td>\n      <td>0</td>\n    </tr>\n    <tr>\n      <th>136375</th>\n      <td>0.1870</td>\n      <td>0.616</td>\n      <td>0.582</td>\n      <td>0.20000</td>\n      <td>0.0995</td>\n      <td>-9.676</td>\n      <td>...</td>\n      <td>0</td>\n      <td>0</td>\n      <td>0</td>\n      <td>0</td>\n      <td>0</td>\n      <td>0</td>\n    </tr>\n    <tr>\n      <th>19545</th>\n      <td>0.0234</td>\n      <td>0.778</td>\n      <td>0.957</td>\n      <td>0.00000</td>\n      <td>0.7150</td>\n      <td>-2.570</td>\n      <td>...</td>\n      <td>0</td>\n      <td>0</td>\n      <td>0</td>\n      <td>0</td>\n      <td>0</td>\n      <td>0</td>\n    </tr>\n  </tbody>\n</table>\n<p>5 rows × 33 columns</p>\n</div>"
     },
     "metadata": {},
     "execution_count": 78
    }
   ],
   "source": [
    "X_train.head()"
   ]
  },
  {
   "cell_type": "code",
   "execution_count": 79,
   "metadata": {},
   "outputs": [],
   "source": [
    "X_scaled = StandardScaler().fit(X_train)\n",
    "X_train_scaled = X_scaled.transform(X_train)\n",
    "X_test_scaled = X_scaled.transform(X_test)"
   ]
  },
  {
   "cell_type": "code",
   "execution_count": 80,
   "metadata": {},
   "outputs": [
    {
     "output_type": "execute_result",
     "data": {
      "text/plain": "RandomForestClassifier(bootstrap=True, ccp_alpha=0.0, class_weight=None,\n                       criterion='gini', max_depth=None, max_features='auto',\n                       max_leaf_nodes=None, max_samples=None,\n                       min_impurity_decrease=0.0, min_impurity_split=None,\n                       min_samples_leaf=1, min_samples_split=2,\n                       min_weight_fraction_leaf=0.0, n_estimators=1200,\n                       n_jobs=None, oob_score=False, random_state=None,\n                       verbose=0, warm_start=False)"
     },
     "metadata": {},
     "execution_count": 80
    }
   ],
   "source": [
    "clf = RandomForestClassifier(n_estimators=1200)\n",
    "clf.fit(X_train_scaled, y_train)\n"
   ]
  },
  {
   "cell_type": "code",
   "execution_count": 81,
   "metadata": {},
   "outputs": [
    {
     "output_type": "execute_result",
     "data": {
      "text/plain": "{'bootstrap': True,\n 'ccp_alpha': 0.0,\n 'class_weight': None,\n 'criterion': 'gini',\n 'max_depth': None,\n 'max_features': 'auto',\n 'max_leaf_nodes': None,\n 'max_samples': None,\n 'min_impurity_decrease': 0.0,\n 'min_impurity_split': None,\n 'min_samples_leaf': 1,\n 'min_samples_split': 2,\n 'min_weight_fraction_leaf': 0.0,\n 'n_estimators': 1200,\n 'n_jobs': None,\n 'oob_score': False,\n 'random_state': None,\n 'verbose': 0,\n 'warm_start': False}"
     },
     "metadata": {},
     "execution_count": 81
    }
   ],
   "source": [
    "clf.get_params()\n"
   ]
  },
  {
   "cell_type": "code",
   "execution_count": 82,
   "metadata": {
    "tags": []
   },
   "outputs": [
    {
     "output_type": "stream",
     "name": "stdout",
     "text": "Training Data Score: 1.00\nTesting Data Score: 0.70\n"
    }
   ],
   "source": [
    "print(f\"Training Data Score: {clf.score(X_train_scaled, y_train):.2f}\")\n",
    "print(f\"Testing Data Score: {clf.score(X_test_scaled, y_test):.2f}\")"
   ]
  },
  {
   "cell_type": "code",
   "execution_count": 83,
   "metadata": {},
   "outputs": [],
   "source": [
    "param_grid =   { \n",
    "    'bootstrap': [True],\n",
    "    'max_depth': [40, 80, 120],\n",
    "    'n_estimators': [100, 300, 600]}\n",
    "grid1 = GridSearchCV(RandomForestClassifier(), param_grid=param_grid, verbose=1 )"
   ]
  },
  {
   "cell_type": "code",
   "execution_count": 20,
   "metadata": {
    "tags": []
   },
   "outputs": [
    {
     "output_type": "stream",
     "name": "stdout",
     "text": "Fitting 5 folds for each of 9 candidates, totalling 45 fits\n[Parallel(n_jobs=1)]: Using backend SequentialBackend with 1 concurrent workers.\n[Parallel(n_jobs=1)]: Done  45 out of  45 | elapsed: 65.4min finished\n"
    },
    {
     "output_type": "execute_result",
     "data": {
      "text/plain": "GridSearchCV(cv=None, error_score=nan,\n             estimator=RandomForestClassifier(bootstrap=True, ccp_alpha=0.0,\n                                              class_weight=None,\n                                              criterion='gini', max_depth=None,\n                                              max_features='auto',\n                                              max_leaf_nodes=None,\n                                              max_samples=None,\n                                              min_impurity_decrease=0.0,\n                                              min_impurity_split=None,\n                                              min_samples_leaf=1,\n                                              min_samples_split=2,\n                                              min_weight_fraction_leaf=0.0,\n                                              n_estimators=100, n_jobs=None,\n                                              oob_score=False,\n                                              random_state=None, verbose=0,\n                                              warm_start=False),\n             iid='deprecated', n_jobs=None,\n             param_grid={'bootstrap': [True], 'max_depth': [40, 80, 120],\n                         'n_estimators': [100, 300, 600]},\n             pre_dispatch='2*n_jobs', refit=True, return_train_score=False,\n             scoring=None, verbose=1)"
     },
     "metadata": {},
     "execution_count": 20
    }
   ],
   "source": [
    "grid1.fit(X_train_scaled, y_train)"
   ]
  },
  {
   "cell_type": "code",
   "execution_count": 21,
   "metadata": {
    "tags": []
   },
   "outputs": [
    {
     "output_type": "stream",
     "name": "stdout",
     "text": "{'bootstrap': True, 'max_depth': 80, 'n_estimators': 600}\n0.6392297337953395\n"
    }
   ],
   "source": [
    "print(grid1.best_params_)\n",
    "print(grid1.best_score_)"
   ]
  },
  {
   "cell_type": "code",
   "execution_count": null,
   "metadata": {},
   "outputs": [],
   "source": []
  }
 ]
}