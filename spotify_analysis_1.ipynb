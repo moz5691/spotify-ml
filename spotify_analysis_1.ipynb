{
 "metadata": {
  "language_info": {
   "codemirror_mode": {
    "name": "ipython",
    "version": 3
   },
   "file_extension": ".py",
   "mimetype": "text/x-python",
   "name": "python",
   "nbconvert_exporter": "python",
   "pygments_lexer": "ipython3",
   "version": "3.8.3-final"
  },
  "orig_nbformat": 2,
  "kernelspec": {
   "name": "python_defaultSpec_1596294855192",
   "display_name": "Python 3.8.3 64-bit ('tf20': venv)"
  }
 },
 "nbformat": 4,
 "nbformat_minor": 2,
 "cells": [
  {
   "cell_type": "markdown",
   "metadata": {},
   "source": [
    "## Spotify Analysis - Danceability"
   ]
  },
  {
   "cell_type": "code",
   "execution_count": 28,
   "metadata": {},
   "outputs": [],
   "source": [
    "with open('./share/common.py') as fin:\n",
    "   exec(fin.read())\n",
    "\n",
    "with open('./share/matplotlibconf.py') as fin:\n",
    "    exec(fin.read())\n"
   ]
  },
  {
   "cell_type": "code",
   "execution_count": 82,
   "metadata": {},
   "outputs": [],
   "source": [
    "df = pd.read_csv('./data/SpotifyFeatures.csv')"
   ]
  },
  {
   "cell_type": "code",
   "execution_count": 83,
   "metadata": {},
   "outputs": [],
   "source": [
    "df.loc[df['genre'] == \"Children’s Music\", 'genre'] = \"Children's Music\""
   ]
  },
  {
   "cell_type": "code",
   "execution_count": 84,
   "metadata": {},
   "outputs": [
    {
     "output_type": "execute_result",
     "data": {
      "text/plain": "array(['Movie', 'R&B', 'A Capella', 'Alternative', 'Country', 'Dance',\n       'Electronic', 'Anime', 'Folk', 'Blues', 'Opera', 'Hip-Hop',\n       \"Children's Music\", 'Rap', 'Indie', 'Classical', 'Pop', 'Reggae',\n       'Reggaeton', 'Jazz', 'Rock', 'Ska', 'Comedy', 'Soul', 'Soundtrack',\n       'World'], dtype=object)"
     },
     "metadata": {},
     "execution_count": 84
    }
   ],
   "source": [
    "df['genre'].unique()"
   ]
  },
  {
   "cell_type": "code",
   "execution_count": 85,
   "metadata": {},
   "outputs": [],
   "source": [
    "df = pd.get_dummies(df, columns=['genre'], prefix=['genre'])"
   ]
  },
  {
   "cell_type": "code",
   "execution_count": 86,
   "metadata": {},
   "outputs": [
    {
     "output_type": "execute_result",
     "data": {
      "text/plain": "Index(['artist_name', 'track_name', 'track_id', 'popularity', 'acousticness',\n       'danceability', 'duration_ms', 'energy', 'instrumentalness', 'key',\n       'liveness', 'loudness', 'mode', 'speechiness', 'tempo',\n       'time_signature', 'valence', 'genre_A Capella', 'genre_Alternative',\n       'genre_Anime', 'genre_Blues', 'genre_Children's Music',\n       'genre_Classical', 'genre_Comedy', 'genre_Country', 'genre_Dance',\n       'genre_Electronic', 'genre_Folk', 'genre_Hip-Hop', 'genre_Indie',\n       'genre_Jazz', 'genre_Movie', 'genre_Opera', 'genre_Pop', 'genre_R&B',\n       'genre_Rap', 'genre_Reggae', 'genre_Reggaeton', 'genre_Rock',\n       'genre_Ska', 'genre_Soul', 'genre_Soundtrack', 'genre_World'],\n      dtype='object')"
     },
     "metadata": {},
     "execution_count": 86
    }
   ],
   "source": [
    "df.columns"
   ]
  },
  {
   "cell_type": "code",
   "execution_count": 87,
   "metadata": {},
   "outputs": [],
   "source": [
    "df.loc[(df['popularity'] < 34), 'popularity' ] = 0\n",
    "df.loc[(df['popularity'] >= 34) & (df['popularity'] < 52 ), 'popularity' ] = 1\n",
    "df.loc[(df['popularity'] >= 52) , 'popularity' ] = 2"
   ]
  },
  {
   "cell_type": "markdown",
   "metadata": {},
   "source": [
    "## The same feature as ANN-popularity part"
   ]
  },
  {
   "cell_type": "code",
   "execution_count": 88,
   "metadata": {},
   "outputs": [],
   "source": [
    "features = ['popularity',\n",
    "       'acousticness', 'danceability', 'energy',\n",
    "       'instrumentalness', 'liveness', 'loudness', 'speechiness', \"genre_A Capella\", 'genre_Alternative', 'genre_Anime', 'genre_Blues',\n",
    "       \"genre_Children's Music\", 'genre_Classical', 'genre_Comedy',\n",
    "       'genre_Country', 'genre_Dance', 'genre_Electronic', 'genre_Folk',\n",
    "       'genre_Hip-Hop', 'genre_Indie', 'genre_Jazz', 'genre_Movie',\n",
    "       'genre_Opera', 'genre_Pop', 'genre_R&B', 'genre_Rap', 'genre_Reggae',\n",
    "       'genre_Reggaeton', 'genre_Rock', 'genre_Ska', 'genre_Soul',\n",
    "       'genre_Soundtrack', \"genre_World\"]"
   ]
  },
  {
   "cell_type": "code",
   "execution_count": 89,
   "metadata": {},
   "outputs": [
    {
     "output_type": "execute_result",
     "data": {
      "text/plain": "   popularity  acousticness  danceability  energy  instrumentalness  liveness  \\\n0           0         0.611         0.389   0.910             0.000    0.3460   \n1           0         0.246         0.590   0.737             0.000    0.1510   \n2           0         0.952         0.663   0.131             0.000    0.1030   \n3           0         0.703         0.240   0.326             0.000    0.0985   \n4           0         0.950         0.331   0.225             0.123    0.2020   \n\n   ...  genre_Reggaeton  genre_Rock  genre_Ska  genre_Soul  genre_Soundtrack  \\\n0  ...                0           0          0           0                 0   \n1  ...                0           0          0           0                 0   \n2  ...                0           0          0           0                 0   \n3  ...                0           0          0           0                 0   \n4  ...                0           0          0           0                 0   \n\n   genre_World  \n0            0  \n1            0  \n2            0  \n3            0  \n4            0  \n\n[5 rows x 34 columns]",
      "text/html": "<div>\n<style scoped>\n    .dataframe tbody tr th:only-of-type {\n        vertical-align: middle;\n    }\n\n    .dataframe tbody tr th {\n        vertical-align: top;\n    }\n\n    .dataframe thead th {\n        text-align: right;\n    }\n</style>\n<table border=\"1\" class=\"dataframe\">\n  <thead>\n    <tr style=\"text-align: right;\">\n      <th></th>\n      <th>popularity</th>\n      <th>acousticness</th>\n      <th>danceability</th>\n      <th>energy</th>\n      <th>instrumentalness</th>\n      <th>liveness</th>\n      <th>...</th>\n      <th>genre_Reggaeton</th>\n      <th>genre_Rock</th>\n      <th>genre_Ska</th>\n      <th>genre_Soul</th>\n      <th>genre_Soundtrack</th>\n      <th>genre_World</th>\n    </tr>\n  </thead>\n  <tbody>\n    <tr>\n      <th>0</th>\n      <td>0</td>\n      <td>0.611</td>\n      <td>0.389</td>\n      <td>0.910</td>\n      <td>0.000</td>\n      <td>0.3460</td>\n      <td>...</td>\n      <td>0</td>\n      <td>0</td>\n      <td>0</td>\n      <td>0</td>\n      <td>0</td>\n      <td>0</td>\n    </tr>\n    <tr>\n      <th>1</th>\n      <td>0</td>\n      <td>0.246</td>\n      <td>0.590</td>\n      <td>0.737</td>\n      <td>0.000</td>\n      <td>0.1510</td>\n      <td>...</td>\n      <td>0</td>\n      <td>0</td>\n      <td>0</td>\n      <td>0</td>\n      <td>0</td>\n      <td>0</td>\n    </tr>\n    <tr>\n      <th>2</th>\n      <td>0</td>\n      <td>0.952</td>\n      <td>0.663</td>\n      <td>0.131</td>\n      <td>0.000</td>\n      <td>0.1030</td>\n      <td>...</td>\n      <td>0</td>\n      <td>0</td>\n      <td>0</td>\n      <td>0</td>\n      <td>0</td>\n      <td>0</td>\n    </tr>\n    <tr>\n      <th>3</th>\n      <td>0</td>\n      <td>0.703</td>\n      <td>0.240</td>\n      <td>0.326</td>\n      <td>0.000</td>\n      <td>0.0985</td>\n      <td>...</td>\n      <td>0</td>\n      <td>0</td>\n      <td>0</td>\n      <td>0</td>\n      <td>0</td>\n      <td>0</td>\n    </tr>\n    <tr>\n      <th>4</th>\n      <td>0</td>\n      <td>0.950</td>\n      <td>0.331</td>\n      <td>0.225</td>\n      <td>0.123</td>\n      <td>0.2020</td>\n      <td>...</td>\n      <td>0</td>\n      <td>0</td>\n      <td>0</td>\n      <td>0</td>\n      <td>0</td>\n      <td>0</td>\n    </tr>\n  </tbody>\n</table>\n<p>5 rows × 34 columns</p>\n</div>"
     },
     "metadata": {},
     "execution_count": 89
    }
   ],
   "source": [
    "df = df[features]\n",
    "df.head()"
   ]
  },
  {
   "cell_type": "code",
   "execution_count": 90,
   "metadata": {},
   "outputs": [],
   "source": [
    "import joblib\n",
    "from sklearn.metrics import classification_report, confusion_matrix\n",
    "from sklearn.model_selection import train_test_split\n",
    "from sklearn.preprocessing import MinMaxScaler, StandardScaler\n",
    "from sklearn.ensemble import RandomForestClassifier\n",
    "from sklearn.model_selection import GridSearchCV\n",
    "from sklearn.svm import SVC\n",
    "import scikitplot as skplt"
   ]
  },
  {
   "cell_type": "code",
   "execution_count": 91,
   "metadata": {},
   "outputs": [],
   "source": [
    "X = df.drop('popularity', axis=1)\n",
    "y = df['popularity']\n",
    "feature_names = X.columns"
   ]
  },
  {
   "cell_type": "code",
   "execution_count": 92,
   "metadata": {},
   "outputs": [],
   "source": [
    "X_train, X_test, y_train, y_test = train_test_split(X, y, test_size=0.1, random_state=101)"
   ]
  },
  {
   "cell_type": "code",
   "execution_count": 93,
   "metadata": {},
   "outputs": [
    {
     "output_type": "execute_result",
     "data": {
      "text/plain": "        acousticness  danceability  energy  instrumentalness  liveness  \\\n194757        0.5590         0.288   0.516           0.00000    0.1790   \n207397        0.7480         0.387   0.379           0.00258    0.0898   \n30452         0.9250         0.370   0.137           0.98700    0.1170   \n136375        0.1870         0.616   0.582           0.20000    0.0995   \n19545         0.0234         0.778   0.957           0.00000    0.7150   \n\n        loudness  ...  genre_Reggaeton  genre_Rock  genre_Ska  genre_Soul  \\\n194757    -5.976  ...                0           0          0           0   \n207397   -12.589  ...                0           0          0           0   \n30452    -14.587  ...                0           0          0           0   \n136375    -9.676  ...                0           0          0           0   \n19545     -2.570  ...                0           0          0           0   \n\n        genre_Soundtrack  genre_World  \n194757                 0            0  \n207397                 0            1  \n30452                  0            0  \n136375                 0            0  \n19545                  0            0  \n\n[5 rows x 33 columns]",
      "text/html": "<div>\n<style scoped>\n    .dataframe tbody tr th:only-of-type {\n        vertical-align: middle;\n    }\n\n    .dataframe tbody tr th {\n        vertical-align: top;\n    }\n\n    .dataframe thead th {\n        text-align: right;\n    }\n</style>\n<table border=\"1\" class=\"dataframe\">\n  <thead>\n    <tr style=\"text-align: right;\">\n      <th></th>\n      <th>acousticness</th>\n      <th>danceability</th>\n      <th>energy</th>\n      <th>instrumentalness</th>\n      <th>liveness</th>\n      <th>loudness</th>\n      <th>...</th>\n      <th>genre_Reggaeton</th>\n      <th>genre_Rock</th>\n      <th>genre_Ska</th>\n      <th>genre_Soul</th>\n      <th>genre_Soundtrack</th>\n      <th>genre_World</th>\n    </tr>\n  </thead>\n  <tbody>\n    <tr>\n      <th>194757</th>\n      <td>0.5590</td>\n      <td>0.288</td>\n      <td>0.516</td>\n      <td>0.00000</td>\n      <td>0.1790</td>\n      <td>-5.976</td>\n      <td>...</td>\n      <td>0</td>\n      <td>0</td>\n      <td>0</td>\n      <td>0</td>\n      <td>0</td>\n      <td>0</td>\n    </tr>\n    <tr>\n      <th>207397</th>\n      <td>0.7480</td>\n      <td>0.387</td>\n      <td>0.379</td>\n      <td>0.00258</td>\n      <td>0.0898</td>\n      <td>-12.589</td>\n      <td>...</td>\n      <td>0</td>\n      <td>0</td>\n      <td>0</td>\n      <td>0</td>\n      <td>0</td>\n      <td>1</td>\n    </tr>\n    <tr>\n      <th>30452</th>\n      <td>0.9250</td>\n      <td>0.370</td>\n      <td>0.137</td>\n      <td>0.98700</td>\n      <td>0.1170</td>\n      <td>-14.587</td>\n      <td>...</td>\n      <td>0</td>\n      <td>0</td>\n      <td>0</td>\n      <td>0</td>\n      <td>0</td>\n      <td>0</td>\n    </tr>\n    <tr>\n      <th>136375</th>\n      <td>0.1870</td>\n      <td>0.616</td>\n      <td>0.582</td>\n      <td>0.20000</td>\n      <td>0.0995</td>\n      <td>-9.676</td>\n      <td>...</td>\n      <td>0</td>\n      <td>0</td>\n      <td>0</td>\n      <td>0</td>\n      <td>0</td>\n      <td>0</td>\n    </tr>\n    <tr>\n      <th>19545</th>\n      <td>0.0234</td>\n      <td>0.778</td>\n      <td>0.957</td>\n      <td>0.00000</td>\n      <td>0.7150</td>\n      <td>-2.570</td>\n      <td>...</td>\n      <td>0</td>\n      <td>0</td>\n      <td>0</td>\n      <td>0</td>\n      <td>0</td>\n      <td>0</td>\n    </tr>\n  </tbody>\n</table>\n<p>5 rows × 33 columns</p>\n</div>"
     },
     "metadata": {},
     "execution_count": 93
    }
   ],
   "source": [
    "X_train.head()"
   ]
  },
  {
   "cell_type": "code",
   "execution_count": 94,
   "metadata": {},
   "outputs": [
    {
     "output_type": "execute_result",
     "data": {
      "text/plain": "count    209452.000000\nmean          0.991110\nstd           0.803658\nmin           0.000000\n25%           0.000000\n50%           1.000000\n75%           2.000000\nmax           2.000000\nName: popularity, dtype: float64"
     },
     "metadata": {},
     "execution_count": 94
    }
   ],
   "source": [
    "y_train.describe()"
   ]
  },
  {
   "cell_type": "code",
   "execution_count": 98,
   "metadata": {},
   "outputs": [
    {
     "output_type": "execute_result",
     "data": {
      "text/plain": "<matplotlib.axes._subplots.AxesSubplot at 0x17b51294c10>"
     },
     "metadata": {},
     "execution_count": 98
    },
    {
     "output_type": "display_data",
     "data": {
      "text/plain": "<Figure size 720x504 with 1 Axes>",
      "image/png": "[encoded data removed]",
      "application/pdf": "[encoded data removed]"
     },
     "metadata": {
      "needs_background": "light"
     }
    }
   ],
   "source": [
    "sns.distplot(y_train)"
   ]
  },
  {
   "cell_type": "code",
   "execution_count": 126,
   "metadata": {},
   "outputs": [],
   "source": [
    "scaler = StandardScaler()\n",
    "scaler.fit(X_train)\n",
    "X_train_scaled = scaler.transform(X_train)\n",
    "X_test_scaled = scaler.transform(X_test)"
   ]
  },
  {
   "cell_type": "code",
   "execution_count": 100,
   "metadata": {},
   "outputs": [
    {
     "output_type": "execute_result",
     "data": {
      "text/plain": "RandomForestClassifier(n_estimators=600)"
     },
     "metadata": {},
     "execution_count": 100
    }
   ],
   "source": [
    "clf = RandomForestClassifier(n_estimators=600)\n",
    "clf.fit(X_train_scaled, y_train)\n"
   ]
  },
  {
   "cell_type": "code",
   "execution_count": 53,
   "metadata": {},
   "outputs": [
    {
     "output_type": "execute_result",
     "data": {
      "text/plain": "{'bootstrap': True,\n 'ccp_alpha': 0.0,\n 'class_weight': None,\n 'criterion': 'gini',\n 'max_depth': None,\n 'max_features': 'auto',\n 'max_leaf_nodes': None,\n 'max_samples': None,\n 'min_impurity_decrease': 0.0,\n 'min_impurity_split': None,\n 'min_samples_leaf': 1,\n 'min_samples_split': 2,\n 'min_weight_fraction_leaf': 0.0,\n 'n_estimators': 600,\n 'n_jobs': None,\n 'oob_score': False,\n 'random_state': None,\n 'verbose': 0,\n 'warm_start': False}"
     },
     "metadata": {},
     "execution_count": 53
    }
   ],
   "source": [
    "clf.get_params()\n"
   ]
  },
  {
   "cell_type": "code",
   "execution_count": 107,
   "metadata": {
    "tags": []
   },
   "outputs": [
    {
     "output_type": "stream",
     "name": "stdout",
     "text": "Training Data Score: 1.00\nTesting Data Score: 0.70\n"
    }
   ],
   "source": [
    "print(f\"Training Data Score: {clf.score(X_train_scaled, y_train):.2f}\")\n",
    "print(f\"Testing Data Score: {clf.score(X_test_scaled, y_test):.2f}\")"
   ]
  },
  {
   "cell_type": "code",
   "execution_count": 109,
   "metadata": {},
   "outputs": [],
   "source": [
    "# param_grid =   { \n",
    "#     'bootstrap': [True],\n",
    "#     'max_depth': [40, 80, 120],\n",
    "#     'n_estimators': [100, 300, 600]}\n",
    "# rfc_grid = GridSearchCV(RandomForestClassifier(), param_grid=param_grid, verbose=1 )"
   ]
  },
  {
   "cell_type": "code",
   "execution_count": 117,
   "metadata": {},
   "outputs": [],
   "source": [
    "param_grid =   { \n",
    "    'bootstrap': [True],\n",
    "    'max_depth': [40, 80, 120],\n",
    "    'n_estimators': [600, 1200]}\n",
    "rfc_grid = GridSearchCV(RandomForestClassifier(), param_grid=param_grid, verbose=1 )"
   ]
  },
  {
   "cell_type": "code",
   "execution_count": 118,
   "metadata": {
    "tags": []
   },
   "outputs": [
    {
     "output_type": "stream",
     "name": "stdout",
     "text": "Fitting 5 folds for each of 1 candidates, totalling 5 fits\n[Parallel(n_jobs=1)]: Using backend SequentialBackend with 1 concurrent workers.\n[Parallel(n_jobs=1)]: Done   5 out of   5 | elapsed: 32.8min finished\n"
    },
    {
     "output_type": "execute_result",
     "data": {
      "text/plain": "GridSearchCV(estimator=RandomForestClassifier(),\n             param_grid={'bootstrap': [True], 'n_estimators': [1200]},\n             verbose=1)"
     },
     "metadata": {},
     "execution_count": 118
    }
   ],
   "source": [
    "rfc_grid.fit(X_train_scaled, y_train)"
   ]
  },
  {
   "cell_type": "code",
   "execution_count": 111,
   "metadata": {},
   "outputs": [
    {
     "output_type": "execute_result",
     "data": {
      "text/plain": "GridSearchCV(estimator=RandomForestClassifier(),\n             param_grid={'bootstrap': [True], 'max_depth': [40, 80, 120],\n                         'n_estimators': [100, 300, 600]},\n             verbose=1)"
     },
     "metadata": {},
     "execution_count": 111
    }
   ],
   "source": [
    "rfc_grid"
   ]
  },
  {
   "cell_type": "code",
   "execution_count": 112,
   "metadata": {
    "tags": []
   },
   "outputs": [
    {
     "output_type": "stream",
     "name": "stdout",
     "text": "{'bootstrap': True, 'max_depth': 40, 'n_estimators': 600}\n0.6975726886015994\n"
    }
   ],
   "source": [
    "print(rfc_grid.best_params_)\n",
    "print(rfc_grid.best_score_)"
   ]
  },
  {
   "cell_type": "code",
   "execution_count": 113,
   "metadata": {
    "tags": []
   },
   "outputs": [
    {
     "output_type": "stream",
     "name": "stdout",
     "text": "Training Data Score: 1.00\nTesting Data Score: 0.70\n"
    }
   ],
   "source": [
    "print(f\"Training Data Score: {rfc_grid.score(X_train_scaled, y_train):.2f}\")\n",
    "print(f\"Testing Data Score: {rfc_grid.score(X_test_scaled, y_test):.2f}\")\n"
   ]
  },
  {
   "cell_type": "code",
   "execution_count": 119,
   "metadata": {},
   "outputs": [],
   "source": [
    "rfc_grid_prediction = rfc_grid.predict(X_test_scaled)"
   ]
  },
  {
   "cell_type": "code",
   "execution_count": 120,
   "metadata": {
    "tags": []
   },
   "outputs": [
    {
     "output_type": "stream",
     "name": "stdout",
     "text": "precision    recall  f1-score   support\n\n           0       0.73      0.81      0.77      7678\n           1       0.60      0.58      0.59      8110\n           2       0.77      0.71      0.74      7485\n\n    accuracy                           0.70     23273\n   macro avg       0.70      0.70      0.70     23273\nweighted avg       0.70      0.70      0.70     23273\n\n"
    }
   ],
   "source": [
    "cf_matrix = confusion_matrix(y_test, rfc_grid_prediction)\n",
    "print(classification_report(y_test, rfc_grid_prediction))"
   ]
  },
  {
   "cell_type": "code",
   "execution_count": 121,
   "metadata": {},
   "outputs": [
    {
     "output_type": "execute_result",
     "data": {
      "text/plain": "<matplotlib.axes._subplots.AxesSubplot at 0x17b56e991f0>"
     },
     "metadata": {},
     "execution_count": 121
    },
    {
     "output_type": "display_data",
     "data": {
      "text/plain": "<Figure size 360x360 with 2 Axes>",
      "image/png": "[encoded data removed]",
      "application/pdf": "[encoded data removed]"
     },
     "metadata": {
      "needs_background": "light"
     }
    }
   ],
   "source": [
    "skplt.metrics.plot_confusion_matrix(y_test, rfc_grid_prediction, figsize=(5,5))\n"
   ]
  },
  {
   "cell_type": "code",
   "execution_count": 123,
   "metadata": {},
   "outputs": [
    {
     "output_type": "execute_result",
     "data": {
      "text/plain": "['models/rfc_pop_model.h5']"
     },
     "metadata": {},
     "execution_count": 123
    }
   ],
   "source": [
    "# save model\n",
    "model_filename = 'models/rfc_pop_model.h5'\n",
    "joblib.dump(rfc_grid, model_filename)"
   ]
  },
  {
   "cell_type": "code",
   "execution_count": 127,
   "metadata": {},
   "outputs": [
    {
     "output_type": "execute_result",
     "data": {
      "text/plain": "['models/rfc_pop_scaler.h5']"
     },
     "metadata": {},
     "execution_count": 127
    }
   ],
   "source": [
    "# save scaler\n",
    "scaler_filename = 'models/rfc_pop_scaler.h5'\n",
    "joblib.dump(scaler, scaler_filename)"
   ]
  },
  {
   "cell_type": "code",
   "execution_count": 128,
   "metadata": {},
   "outputs": [],
   "source": [
    "# test loading model and scaler\n",
    "model = joblib.load(model_filename)\n",
    "scaler = joblib.load(scaler_filename)\n"
   ]
  },
  {
   "cell_type": "code",
   "execution_count": 130,
   "metadata": {},
   "outputs": [],
   "source": [
    "X_test_scaled_test = scaler.transform(X_test)\n",
    "\n",
    "y_test_hat = model.predict(X_test_scaled_test)"
   ]
  },
  {
   "cell_type": "code",
   "execution_count": 131,
   "metadata": {
    "tags": []
   },
   "outputs": [
    {
     "output_type": "stream",
     "name": "stdout",
     "text": "Test accuracy 0.6967301164439479\n"
    }
   ],
   "source": [
    "from sklearn.metrics import accuracy_score\n",
    "\n",
    "acc = accuracy_score(y_test, y_test_hat)\n",
    "print('Test accuracy', acc)"
   ]
  },
  {
   "cell_type": "code",
   "execution_count": null,
   "metadata": {},
   "outputs": [],
   "source": []
  }
 ]
}